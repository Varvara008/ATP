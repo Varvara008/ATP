{
 "cells": [
  {
   "cell_type": "code",
   "execution_count": null,
   "metadata": {},
   "outputs": [
    {
     "name": "stdout",
     "output_type": "stream",
     "text": [
      "Используем устройство: cpu\n",
      "Классы: ['defect', 'no-defect']\n"
     ]
    }
   ],
   "source": [
    "import torch\n",
    "import torchvision\n",
    "import torchvision.transforms as transforms\n",
    "from torchvision.datasets import ImageFolder\n",
    "from torch.utils.data import DataLoader\n",
    "import os\n",
    "\n",
    "# Устройство (CPU или GPU)\n",
    "device = torch.device(\"cuda\" if torch.cuda.is_available() else \"cpu\")\n",
    "print(f\"Используем устройство: {device}\")\n",
    "\n",
    "# Аугментация данных для улучшения обучения\n",
    "train_transforms = transforms.Compose([\n",
    "    transforms.Resize((224, 224)),\n",
    "    transforms.RandomHorizontalFlip(),  # Случайное отражение\n",
    "    transforms.RandomRotation(15),  # Вращение на ±15 градусов\n",
    "    transforms.RandomAffine(degrees=0, translate=(0.1, 0.1)),  # Сдвиг до 10%\n",
    "    transforms.RandomPerspective(distortion_scale=0.2, p=0.5),  # Искажение\n",
    "    transforms.ColorJitter(brightness=0.3, contrast=0.3),  # Яркость и контраст\n",
    "    # transforms.RandomErasing(p=0.5),  # Удаление случайных фрагментов изображения\n",
    "    transforms.ToTensor(),\n",
    "    transforms.Normalize(mean=[0.485, 0.456, 0.406], std=[0.229, 0.224, 0.225])\n",
    "])\n",
    "\n",
    "val_transforms = transforms.Compose([\n",
    "    transforms.Resize((224, 224)),\n",
    "    transforms.ToTensor(),\n",
    "    transforms.Normalize(mean=[0.485, 0.456, 0.406], std=[0.229, 0.224, 0.225])\n",
    "])\n",
    "\n",
    "# Загрузка датасета\n",
    "train_dataset = ImageFolder(\"dataset/train\", transform=train_transforms)\n",
    "val_dataset = ImageFolder(\"dataset/val\", transform=val_transforms)\n",
    "\n",
    "# Создание DataLoader\n",
    "train_loader = DataLoader(train_dataset, batch_size=32, shuffle=True)\n",
    "val_loader = DataLoader(val_dataset, batch_size=32, shuffle=False)\n",
    "\n",
    "# Проверка классов\n",
    "print(f\"Классы: {train_dataset.classes}\")\n"
   ]
  },
  {
   "cell_type": "code",
   "execution_count": null,
   "metadata": {},
   "outputs": [],
   "source": []
  },
  {
   "cell_type": "code",
   "execution_count": 1,
   "metadata": {},
   "outputs": [
    {
     "name": "stderr",
     "output_type": "stream",
     "text": [
      "c:\\Users\\Alexandr\\Documents\\Варя\\ATP\\venv\\Lib\\site-packages\\torchvision\\models\\_utils.py:208: UserWarning: The parameter 'pretrained' is deprecated since 0.13 and may be removed in the future, please use 'weights' instead.\n",
      "  warnings.warn(\n",
      "c:\\Users\\Alexandr\\Documents\\Варя\\ATP\\venv\\Lib\\site-packages\\torchvision\\models\\_utils.py:223: UserWarning: Arguments other than a weight enum or `None` for 'weights' are deprecated since 0.13 and may be removed in the future. The current behavior is equivalent to passing `weights=ResNet18_Weights.IMAGENET1K_V1`. You can also use `weights=ResNet18_Weights.DEFAULT` to get the most up-to-date weights.\n",
      "  warnings.warn(msg)\n"
     ]
    },
    {
     "ename": "NameError",
     "evalue": "name 'device' is not defined",
     "output_type": "error",
     "traceback": [
      "\u001b[1;31m---------------------------------------------------------------------------\u001b[0m",
      "\u001b[1;31mNameError\u001b[0m                                 Traceback (most recent call last)",
      "Cell \u001b[1;32mIn[1], line 12\u001b[0m\n\u001b[0;32m      9\u001b[0m model\u001b[38;5;241m.\u001b[39mfc \u001b[38;5;241m=\u001b[39m nn\u001b[38;5;241m.\u001b[39mLinear(num_ftrs, \u001b[38;5;241m2\u001b[39m)  \u001b[38;5;66;03m# Два класса: \"дефект\" и \"без дефекта\"\u001b[39;00m\n\u001b[0;32m     11\u001b[0m \u001b[38;5;66;03m# Перенос модели на устройство\u001b[39;00m\n\u001b[1;32m---> 12\u001b[0m model \u001b[38;5;241m=\u001b[39m model\u001b[38;5;241m.\u001b[39mto(\u001b[43mdevice\u001b[49m)\n\u001b[0;32m     14\u001b[0m \u001b[38;5;66;03m# Функция потерь и оптимизатор\u001b[39;00m\n\u001b[0;32m     15\u001b[0m criterion \u001b[38;5;241m=\u001b[39m nn\u001b[38;5;241m.\u001b[39mCrossEntropyLoss()\n",
      "\u001b[1;31mNameError\u001b[0m: name 'device' is not defined"
     ]
    }
   ],
   "source": [
    "import torch.nn as nn\n",
    "from torchvision import models\n",
    "\n",
    "# Загрузка предобученной модели ResNet-18\n",
    "model = models.resnet18(pretrained=True)\n",
    "\n",
    "# Замена последнего слоя\n",
    "num_ftrs = model.fc.in_features\n",
    "model.fc = nn.Linear(num_ftrs, 2)  # Два класса: \"дефект\" и \"без дефекта\"\n",
    "\n",
    "# Перенос модели на устройство\n",
    "model = model.to(device)\n",
    "\n",
    "# Функция потерь и оптимизатор\n",
    "criterion = nn.CrossEntropyLoss()\n",
    "optimizer = torch.optim.Adam(model.parameters(), lr=0.001)\n",
    "\n",
    "print(\"Модель подготовлена к обучению\")\n"
   ]
  },
  {
   "cell_type": "code",
   "execution_count": null,
   "metadata": {},
   "outputs": [
    {
     "name": "stdout",
     "output_type": "stream",
     "text": [
      "Эпоха 1/20\n",
      "Средняя потеря на обучении: 0.29079421383461784\n",
      "Точность на валидации: 71.43%\n",
      "Эпоха 2/20\n",
      "Средняя потеря на обучении: 0.17214264401367732\n",
      "Точность на валидации: 85.71%\n",
      "Эпоха 3/20\n",
      "Средняя потеря на обучении: 0.08412256261466869\n",
      "Точность на валидации: 80.36%\n",
      "Эпоха 4/20\n",
      "Средняя потеря на обучении: 0.07005584545965705\n",
      "Точность на валидации: 85.71%\n",
      "Эпоха 5/20\n",
      "Средняя потеря на обучении: 0.08268185531986612\n",
      "Точность на валидации: 75.00%\n",
      "Эпоха 6/20\n",
      "Средняя потеря на обучении: 0.05370537457721574\n",
      "Точность на валидации: 85.71%\n",
      "Эпоха 7/20\n",
      "Средняя потеря на обучении: 0.06206293665205261\n",
      "Точность на валидации: 85.71%\n",
      "Эпоха 8/20\n",
      "Средняя потеря на обучении: 0.04857733752578497\n",
      "Точность на валидации: 87.50%\n",
      "Эпоха 9/20\n",
      "Средняя потеря на обучении: 0.05211709833071966\n",
      "Точность на валидации: 83.93%\n",
      "Эпоха 10/20\n",
      "Средняя потеря на обучении: 0.05168145386103008\n",
      "Точность на валидации: 87.50%\n",
      "Эпоха 11/20\n",
      "Средняя потеря на обучении: 0.08419819896308971\n",
      "Точность на валидации: 83.93%\n",
      "Эпоха 12/20\n",
      "Средняя потеря на обучении: 0.04736963027556028\n",
      "Точность на валидации: 85.71%\n",
      "Эпоха 13/20\n",
      "Средняя потеря на обучении: 0.035913022101989815\n",
      "Точность на валидации: 87.50%\n",
      "Эпоха 14/20\n",
      "Средняя потеря на обучении: 0.04539979258385886\n",
      "Точность на валидации: 87.50%\n",
      "Эпоха 15/20\n",
      "Средняя потеря на обучении: 0.06731432084260243\n",
      "Точность на валидации: 83.93%\n",
      "Эпоха 16/20\n",
      "Средняя потеря на обучении: 0.04452467047875481\n",
      "Точность на валидации: 85.71%\n",
      "Эпоха 17/20\n",
      "Средняя потеря на обучении: 0.05212169815786183\n",
      "Точность на валидации: 73.21%\n",
      "Эпоха 18/20\n",
      "Средняя потеря на обучении: 0.060041304411632676\n",
      "Точность на валидации: 85.71%\n",
      "Эпоха 19/20\n",
      "Средняя потеря на обучении: 0.04811347977790449\n",
      "Точность на валидации: 91.07%\n",
      "Эпоха 20/20\n",
      "Средняя потеря на обучении: 0.05070172426556902\n",
      "Точность на валидации: 85.71%\n"
     ]
    }
   ],
   "source": [
    "def train_model(model, train_loader, val_loader, criterion, optimizer, num_epochs=20):\n",
    "    for epoch in range(num_epochs):\n",
    "        print(f\"Эпоха {epoch+1}/{num_epochs}\")\n",
    "        \n",
    "        # Режим обучения\n",
    "        model.train()\n",
    "        running_loss = 0.0\n",
    "\n",
    "        for inputs, labels in train_loader:\n",
    "            inputs, labels = inputs.to(device), labels.to(device)\n",
    "\n",
    "            optimizer.zero_grad()\n",
    "            outputs = model(inputs)\n",
    "            loss = criterion(outputs, labels)\n",
    "            loss.backward()\n",
    "            optimizer.step()\n",
    "\n",
    "            running_loss += loss.item()\n",
    "\n",
    "        print(f\"Средняя потеря на обучении: {running_loss / len(train_loader)}\")\n",
    "\n",
    "        # Оценка на валидации\n",
    "        model.eval()\n",
    "        correct = 0\n",
    "        total = 0\n",
    "\n",
    "        with torch.no_grad():\n",
    "            for inputs, labels in val_loader:\n",
    "                inputs, labels = inputs.to(device), labels.to(device)\n",
    "                outputs = model(inputs)\n",
    "                _, predicted = torch.max(outputs, 1)\n",
    "                total += labels.size(0)\n",
    "                correct += (predicted == labels).sum().item()\n",
    "\n",
    "        accuracy = 100 * correct / total\n",
    "        print(f\"Точность на валидации: {accuracy:.2f}%\")\n",
    "\n",
    "# Запуск обучения\n",
    "train_model(model, train_loader, val_loader, criterion, optimizer, num_epochs=20)\n"
   ]
  },
  {
   "cell_type": "code",
   "execution_count": null,
   "metadata": {},
   "outputs": [
    {
     "name": "stdout",
     "output_type": "stream",
     "text": [
      "Точность на валидации: 85.71%\n"
     ]
    }
   ],
   "source": [
    "correct = 0\n",
    "total = 0\n",
    "\n",
    "with torch.no_grad():\n",
    "    for inputs, labels in val_loader:\n",
    "        inputs, labels = inputs.to(device), labels.to(device)\n",
    "        outputs = model(inputs)\n",
    "        _, predicted = torch.max(outputs, 1)\n",
    "        total += labels.size(0)\n",
    "        correct += (predicted == labels).sum().item()\n",
    "\n",
    "accuracy = 100 * correct / total\n",
    "print(f\"Точность на валидации: {accuracy:.2f}%\")"
   ]
  },
  {
   "cell_type": "code",
   "execution_count": null,
   "metadata": {},
   "outputs": [
    {
     "name": "stdout",
     "output_type": "stream",
     "text": [
      "Ошибка загрузки dataset/val/defect/photo_2025-02-02_18-47-09.jpg\n"
     ]
    }
   ],
   "source": [
    "import cv2\n",
    "import numpy as np\n",
    "import os\n",
    "\n",
    "def remove_red_triangle(image_path, save_path):\n",
    "    # Загружаем изображение\n",
    "    image = cv2.imread(image_path)\n",
    "    if image is None:\n",
    "        print(f\"Ошибка загрузки {image_path}\")\n",
    "        return\n",
    "\n",
    "    # Переводим в формат HSV\n",
    "    hsv = cv2.cvtColor(image, cv2.COLOR_BGR2HSV)\n",
    "\n",
    "    # Диапазон красного цвета (можно подстроить)\n",
    "    lower_red1 = np.array([0, 120, 70])   # Красный оттенок 1\n",
    "    upper_red1 = np.array([10, 255, 255]) \n",
    "    lower_red2 = np.array([170, 120, 70]) # Красный оттенок 2\n",
    "    upper_red2 = np.array([180, 255, 255])\n",
    "\n",
    "    # Маска красного цвета\n",
    "    mask1 = cv2.inRange(hsv, lower_red1, upper_red1)\n",
    "    mask2 = cv2.inRange(hsv, lower_red2, upper_red2)\n",
    "    mask = mask1 + mask2  # Объединяем две маски\n",
    "\n",
    "    # Находим контуры красных объектов\n",
    "    contours, _ = cv2.findContours(mask, cv2.RETR_EXTERNAL, cv2.CHAIN_APPROX_SIMPLE)\n",
    "\n",
    "    # Замазываем красные области\n",
    "    for contour in contours:\n",
    "        x, y, w, h = cv2.boundingRect(contour)\n",
    "        roi = image[y:y+h, x:x+w]  # Выделяем область\n",
    "        blurred = cv2.GaussianBlur(roi, (15, 15), 0)  # Размываем\n",
    "        image[y:y+h, x:x+w] = blurred  # Заменяем\n",
    "\n",
    "    # Сохраняем результат\n",
    "    cv2.imwrite(save_path, image)\n",
    "    print(f\"Обработанное изображение сохранено в {save_path}\")\n",
    "\n",
    "# Пример использования\n",
    "remove_red_triangle(\"dataset/val/defect/photo_2025-02-02_18-47-09.jpg\", \"new_photo.jpg\")"
   ]
  },
  {
   "cell_type": "code",
   "execution_count": 2,
   "metadata": {},
   "outputs": [],
   "source": [
    "from torch import save\n",
    "\n",
    "save(model.state_dict(), \"defect_model.pth\")"
   ]
  }
 ],
 "metadata": {
  "kernelspec": {
   "display_name": "venv",
   "language": "python",
   "name": "python3"
  },
  "language_info": {
   "codemirror_mode": {
    "name": "ipython",
    "version": 3
   },
   "file_extension": ".py",
   "mimetype": "text/x-python",
   "name": "python",
   "nbconvert_exporter": "python",
   "pygments_lexer": "ipython3",
   "version": "3.11.0"
  }
 },
 "nbformat": 4,
 "nbformat_minor": 2
}
