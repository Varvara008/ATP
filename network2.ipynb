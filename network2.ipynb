{
 "cells": [
  {
   "cell_type": "code",
   "execution_count": null,
   "metadata": {},
   "outputs": [
    {
     "name": "stdout",
     "output_type": "stream",
     "text": [
      "Используем устройство: cpu\n",
      "Классы: ['defect', 'no-defect']\n"
     ]
    }
   ],
   "source": [
    "import torch\n",
    "import torchvision\n",
    "import torchvision.transforms as transforms\n",
    "from torchvision.datasets import ImageFolder\n",
    "from torch.utils.data import DataLoader\n",
    "import os\n",
    "\n",
    "\n",
    "device = torch.device(\"cuda\" if torch.cuda.is_available() else \"cpu\")\n",
    "print(f\"Используем устройство: {device}\")\n",
    "\n",
    "\n",
    "train_transforms = transforms.Compose([\n",
    "    transforms.Resize((224, 224)),\n",
    "    transforms.RandomHorizontalFlip(),  \n",
    "    transforms.RandomRotation(15),  \n",
    "    transforms.RandomAffine(degrees=0, translate=(0.1, 0.1)),  \n",
    "    transforms.RandomPerspective(distortion_scale=0.2, p=0.5),  \n",
    "    transforms.ColorJitter(brightness=0.3, contrast=0.3),  \n",
    "    transforms.ToTensor(),\n",
    "    transforms.Normalize(mean=[0.485, 0.456, 0.406], std=[0.229, 0.224, 0.225])\n",
    "])\n",
    "\n",
    "val_transforms = transforms.Compose([\n",
    "    transforms.Resize((224, 224)),\n",
    "    transforms.ToTensor(),\n",
    "    transforms.Normalize(mean=[0.485, 0.456, 0.406], std=[0.229, 0.224, 0.225])\n",
    "])\n",
    "\n",
    "train_dataset = ImageFolder(\"dataset/train\", transform=train_transforms)\n",
    "val_dataset = ImageFolder(\"dataset/val\", transform=val_transforms)\n",
    "\n",
    "train_loader = DataLoader(train_dataset, batch_size=32, shuffle=True)\n",
    "val_loader = DataLoader(val_dataset, batch_size=32, shuffle=False)\n",
    "\n",
    "print(f\"Классы: {train_dataset.classes}\")\n"
   ]
  },
  {
   "cell_type": "code",
   "execution_count": null,
   "metadata": {},
   "outputs": [
    {
     "name": "stderr",
     "output_type": "stream",
     "text": [
      "c:\\Users\\Alexandr\\Documents\\Варя\\ATP\\venv\\Lib\\site-packages\\torchvision\\models\\_utils.py:208: UserWarning: The parameter 'pretrained' is deprecated since 0.13 and may be removed in the future, please use 'weights' instead.\n",
      "  warnings.warn(\n",
      "c:\\Users\\Alexandr\\Documents\\Варя\\ATP\\venv\\Lib\\site-packages\\torchvision\\models\\_utils.py:223: UserWarning: Arguments other than a weight enum or `None` for 'weights' are deprecated since 0.13 and may be removed in the future. The current behavior is equivalent to passing `weights=ResNet18_Weights.IMAGENET1K_V1`. You can also use `weights=ResNet18_Weights.DEFAULT` to get the most up-to-date weights.\n",
      "  warnings.warn(msg)\n"
     ]
    },
    {
     "name": "stdout",
     "output_type": "stream",
     "text": [
      "Модель подготовлена к обучению\n"
     ]
    }
   ],
   "source": [
    "import torch.nn as nn\n",
    "from torchvision import models\n",
    "\n",
    "\n",
    "model = models.resnet18(pretrained=True)\n",
    "\n",
    "num_ftrs = model.fc.in_features\n",
    "model.fc = nn.Linear(num_ftrs, 2)  \n",
    "\n",
    "model = model.to(device)\n",
    "\n",
    "criterion = nn.CrossEntropyLoss()\n",
    "optimizer = torch.optim.Adam(model.parameters(), lr=0.001)\n",
    "\n",
    "print(\"Модель подготовлена к обучению\")\n"
   ]
  },
  {
   "cell_type": "code",
   "execution_count": null,
   "metadata": {},
   "outputs": [
    {
     "name": "stdout",
     "output_type": "stream",
     "text": [
      "Эпоха 1/20\n",
      "Средняя потеря на обучении: 0.4148086006087916\n",
      "Точность на валидации: 71.43%\n",
      "Сохранена модель с аккуратностью:  71.42857142857143\n",
      "Эпоха 2/20\n",
      "Средняя потеря на обучении: 0.14780109801462718\n",
      "Точность на валидации: 76.79%\n",
      "Сохранена модель с аккуратностью:  76.78571428571429\n",
      "Эпоха 3/20\n",
      "Средняя потеря на обучении: 0.10934355628809758\n",
      "Точность на валидации: 82.14%\n",
      "Сохранена модель с аккуратностью:  82.14285714285714\n",
      "Эпоха 4/20\n",
      "Средняя потеря на обучении: 0.08100994962400623\n",
      "Точность на валидации: 71.43%\n",
      "Эпоха 5/20\n",
      "Средняя потеря на обучении: 0.06957430505592908\n",
      "Точность на валидации: 85.71%\n",
      "Сохранена модель с аккуратностью:  85.71428571428571\n",
      "Эпоха 6/20\n",
      "Средняя потеря на обучении: 0.06897162819015128\n",
      "Точность на валидации: 87.50%\n",
      "Сохранена модель с аккуратностью:  87.5\n",
      "Эпоха 7/20\n",
      "Средняя потеря на обучении: 0.04700993886217475\n",
      "Точность на валидации: 87.50%\n",
      "Эпоха 8/20\n",
      "Средняя потеря на обучении: 0.05627946530668331\n",
      "Точность на валидации: 85.71%\n",
      "Эпоха 9/20\n",
      "Средняя потеря на обучении: 0.07058416079131088\n",
      "Точность на валидации: 87.50%\n",
      "Эпоха 10/20\n",
      "Средняя потеря на обучении: 0.0518896079489163\n",
      "Точность на валидации: 85.71%\n",
      "Эпоха 11/20\n",
      "Средняя потеря на обучении: 0.06801122345495969\n",
      "Точность на валидации: 91.07%\n",
      "Сохранена модель с аккуратностью:  91.07142857142857\n",
      "Эпоха 12/20\n",
      "Средняя потеря на обучении: 0.06223049334117344\n",
      "Точность на валидации: 76.79%\n",
      "Эпоха 13/20\n",
      "Средняя потеря на обучении: 0.043429506084066816\n",
      "Точность на валидации: 89.29%\n",
      "Эпоха 14/20\n",
      "Средняя потеря на обучении: 0.043052828550571576\n",
      "Точность на валидации: 92.86%\n",
      "Сохранена модель с аккуратностью:  92.85714285714286\n",
      "Эпоха 15/20\n",
      "Средняя потеря на обучении: 0.02915907242069287\n",
      "Точность на валидации: 94.64%\n",
      "Сохранена модель с аккуратностью:  94.64285714285714\n",
      "Эпоха 16/20\n",
      "Средняя потеря на обучении: 0.04932552113729928\n",
      "Точность на валидации: 91.07%\n",
      "Эпоха 17/20\n",
      "Средняя потеря на обучении: 0.0577074629337793\n",
      "Точность на валидации: 89.29%\n",
      "Эпоха 18/20\n",
      "Средняя потеря на обучении: 0.041282826053377776\n",
      "Точность на валидации: 92.86%\n",
      "Эпоха 19/20\n",
      "Средняя потеря на обучении: 0.03243475462243493\n",
      "Точность на валидации: 92.86%\n",
      "Эпоха 20/20\n",
      "Средняя потеря на обучении: 0.05152298990703587\n",
      "Точность на валидации: 87.50%\n"
     ]
    }
   ],
   "source": [
    "from torch import save\n",
    "\n",
    "\n",
    "def train_model(model, train_loader, val_loader, criterion, optimizer, num_epochs=20):\n",
    "\n",
    "    best_accuracy = 0.0\n",
    "    for epoch in range(num_epochs):\n",
    "        print(f\"Эпоха {epoch+1}/{num_epochs}\")\n",
    "        \n",
    "        model.train()\n",
    "        running_loss = 0.0\n",
    "\n",
    "        for inputs, labels in train_loader:\n",
    "            inputs, labels = inputs.to(device), labels.to(device)\n",
    "\n",
    "            optimizer.zero_grad()\n",
    "            outputs = model(inputs)\n",
    "            loss = criterion(outputs, labels)\n",
    "            loss.backward()\n",
    "            optimizer.step()\n",
    "\n",
    "            running_loss += loss.item()\n",
    "\n",
    "        print(f\"Средняя потеря на обучении: {running_loss / len(train_loader)}\")\n",
    "\n",
    "        model.eval()\n",
    "        correct = 0\n",
    "        total = 0\n",
    "\n",
    "        with torch.no_grad():\n",
    "            for inputs, labels in val_loader:\n",
    "                inputs, labels = inputs.to(device), labels.to(device)\n",
    "                outputs = model(inputs)\n",
    "                _, predicted = torch.max(outputs, 1)\n",
    "                total += labels.size(0)\n",
    "                correct += (predicted == labels).sum().item()\n",
    "\n",
    "        accuracy = 100 * correct / total\n",
    "        print(f\"Точность на валидации: {accuracy:.2f}%\")\n",
    "        if accuracy > best_accuracy:\n",
    "            best_accuracy = accuracy\n",
    "            save(model.state_dict(), \"defect_model.pth\")\n",
    "            print(\"Сохранена модель с аккуратностью: \", accuracy)\n",
    "\n",
    "train_model(model, train_loader, val_loader, criterion, optimizer, num_epochs=20)\n"
   ]
  },
  {
   "cell_type": "code",
   "execution_count": 4,
   "metadata": {},
   "outputs": [
    {
     "name": "stdout",
     "output_type": "stream",
     "text": [
      "Точность на валидации: 87.50%\n"
     ]
    }
   ],
   "source": [
    "correct = 0\n",
    "total = 0\n",
    "\n",
    "with torch.no_grad():\n",
    "    for inputs, labels in val_loader:\n",
    "        inputs, labels = inputs.to(device), labels.to(device)\n",
    "        outputs = model(inputs)\n",
    "        _, predicted = torch.max(outputs, 1)\n",
    "        total += labels.size(0)\n",
    "        correct += (predicted == labels).sum().item()\n",
    "\n",
    "accuracy = 100 * correct / total\n",
    "print(f\"Точность на валидации: {accuracy:.2f}%\")"
   ]
  },
  {
   "cell_type": "code",
   "execution_count": null,
   "metadata": {},
   "outputs": [
    {
     "name": "stdout",
     "output_type": "stream",
     "text": [
      "Ошибка загрузки dataset/val/defect/photo_2025-02-02_18-47-09.jpg\n"
     ]
    }
   ],
   "source": [
    "import cv2\n",
    "import numpy as np\n",
    "import os\n",
    "\n",
    "def remove_red_triangle(image_path, save_path):\n",
    "    image = cv2.imread(image_path)\n",
    "    if image is None:\n",
    "        print(f\"Ошибка загрузки {image_path}\")\n",
    "        return\n",
    "\n",
    "    hsv = cv2.cvtColor(image, cv2.COLOR_BGR2HSV)\n",
    "\n",
    "    lower_red1 = np.array([0, 120, 70])   \n",
    "    upper_red1 = np.array([10, 255, 255]) \n",
    "    lower_red2 = np.array([170, 120, 70]) \n",
    "    upper_red2 = np.array([180, 255, 255])\n",
    "\n",
    "    mask1 = cv2.inRange(hsv, lower_red1, upper_red1)\n",
    "    mask2 = cv2.inRange(hsv, lower_red2, upper_red2)\n",
    "    mask = mask1 + mask2  \n",
    "\n",
    "    contours, _ = cv2.findContours(mask, cv2.RETR_EXTERNAL, cv2.CHAIN_APPROX_SIMPLE)\n",
    "\n",
    "    for contour in contours:\n",
    "        x, y, w, h = cv2.boundingRect(contour)\n",
    "        roi = image[y:y+h, x:x+w] \n",
    "        blurred = cv2.GaussianBlur(roi, (15, 15), 0)  \n",
    "        image[y:y+h, x:x+w] = blurred  \n",
    "\n",
    "    cv2.imwrite(save_path, image)\n",
    "    print(f\"Обработанное изображение сохранено в {save_path}\")\n",
    "\n",
    "remove_red_triangle(\"dataset/val/defect/photo_2025-02-02_18-47-09.jpg\", \"new_photo.jpg\")"
   ]
  }
 ],
 "metadata": {
  "kernelspec": {
   "display_name": "venv",
   "language": "python",
   "name": "python3"
  },
  "language_info": {
   "codemirror_mode": {
    "name": "ipython",
    "version": 3
   },
   "file_extension": ".py",
   "mimetype": "text/x-python",
   "name": "python",
   "nbconvert_exporter": "python",
   "pygments_lexer": "ipython3",
   "version": "3.11.0"
  }
 },
 "nbformat": 4,
 "nbformat_minor": 2
}
