{
 "cells": [
  {
   "cell_type": "code",
   "execution_count": 1,
   "metadata": {},
   "outputs": [
    {
     "data": {
      "text/plain": [
       "np.float64(2.7755575615628914e-17)"
      ]
     },
     "execution_count": 1,
     "metadata": {},
     "output_type": "execute_result"
    }
   ],
   "source": [
    "import numpy as np\n",
    "\n",
    "\n",
    "def linear_neuron(x, w, b):\n",
    "    return w@x + b\n",
    "\n",
    "x = np.array([1, 2])\n",
    "w = np.array([0.5, -0.3])\n",
    "b = 0.1\n",
    "linear_neuron(x, w, b)"
   ]
  },
  {
   "cell_type": "code",
   "execution_count": 2,
   "metadata": {},
   "outputs": [
    {
     "name": "stdout",
     "output_type": "stream",
     "text": [
      "2.7755575615628914e-17 relu\n",
      "0.5 sigmoid\n"
     ]
    }
   ],
   "source": [
    "def relu(x):\n",
    "    return np.maximum(0, x)\n",
    "\n",
    "def sigmoid(x):\n",
    "    return 1/(1+np.exp(-x))\n",
    "\n",
    "print(relu(linear_neuron(x, w, b)), \"relu\")\n",
    "print(sigmoid(linear_neuron(x, w, b)), \"sigmoid\")"
   ]
  },
  {
   "cell_type": "code",
   "execution_count": 3,
   "metadata": {},
   "outputs": [
    {
     "data": {
      "text/plain": [
       "array([1.9, 1.3])"
      ]
     },
     "execution_count": 3,
     "metadata": {},
     "output_type": "execute_result"
    }
   ],
   "source": [
    "def single_layer_nn(x, w, b, activation):\n",
    "    z = linear_neuron(x, w, b)\n",
    "    return activation(z)\n",
    "\n",
    "x = np.array([1.0, 2.0])\n",
    "w = np.array([[0.2, 0.8], [-0.5, 1.0]])\n",
    "b = np.array([0.1, -0.2])\n",
    "single_layer_nn(x, w, b, relu)"
   ]
  },
  {
   "cell_type": "code",
   "execution_count": 4,
   "metadata": {},
   "outputs": [
    {
     "data": {
      "text/plain": [
       "array([0.73105858])"
      ]
     },
     "execution_count": 4,
     "metadata": {},
     "output_type": "execute_result"
    }
   ],
   "source": [
    "def multi_layer_nn(x, layers):\n",
    "    for layer in layers:\n",
    "        w, b, activation = layer\n",
    "        x = single_layer_nn(x, w, b, activation)\n",
    "    return x\n",
    "layers = [\n",
    "    (np.array([[0.5, -0.2], [0.3, 0.8]]),  # Веса 1-го слоя\n",
    "     np.array([0.1, -0.3]),  # Смещение 1-го слоя\n",
    "     relu),  # Активация 1-го слоя\n",
    "    (np.array([[0.7, 0.6]]),  # Веса 2-го слоя\n",
    "     np.array([-0.1]),  # Смещение 2-го слоя\n",
    "     sigmoid)  # Активация 2-го слоя\n",
    "]\n",
    "x = np.array([1, 2])\n",
    "multi_layer_nn(x, layers)"
   ]
  }
 ],
 "metadata": {
  "kernelspec": {
   "display_name": "venv",
   "language": "python",
   "name": "python3"
  },
  "language_info": {
   "codemirror_mode": {
    "name": "ipython",
    "version": 3
   },
   "file_extension": ".py",
   "mimetype": "text/x-python",
   "name": "python",
   "nbconvert_exporter": "python",
   "pygments_lexer": "ipython3",
   "version": "3.11.0"
  }
 },
 "nbformat": 4,
 "nbformat_minor": 2
}
