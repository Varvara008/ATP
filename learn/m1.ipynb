{
 "cells": [
  {
   "cell_type": "code",
   "execution_count": 3,
   "metadata": {},
   "outputs": [
    {
     "data": {
      "text/plain": [
       "np.int64(32)"
      ]
     },
     "execution_count": 3,
     "metadata": {},
     "output_type": "execute_result"
    }
   ],
   "source": [
    "import numpy as np\n",
    "\n",
    "a = np.array([1, 2, 3])\n",
    "b = np.array([4, 5, 6])\n",
    "c = np.array([7, 8, 9])\n",
    "\n",
    "a@b #скалярное произведение(сумма произведений координат)"
   ]
  },
  {
   "cell_type": "markdown",
   "metadata": {},
   "source": [
    "**Нормализация** - преобразование векторов в единичный вектор\n",
    "\n",
    "**Смысл нормализации** - приведение данных от формата, в котором были, до формата от 0 до 1\n",
    "\n",
    "### Пример:\n",
    "\n",
    "- Стоимость домов: 10, 110, 60\n",
    "- Нормализованная стоимость: 0, 1, 0.5"
   ]
  },
  {
   "cell_type": "code",
   "execution_count": 5,
   "metadata": {},
   "outputs": [
    {
     "data": {
      "text/plain": [
       "array([0.  , 0.23, 0.87, 0.54, 1.  ])"
      ]
     },
     "execution_count": 5,
     "metadata": {},
     "output_type": "execute_result"
    }
   ],
   "source": [
    "data = np.array([0, 23, 87, 54, 100])\n",
    "norm = (data - np.min(data))/(np.max(data) - np.min(data))\n",
    "\n",
    "norm #нормализация"
   ]
  },
  {
   "cell_type": "code",
   "execution_count": 6,
   "metadata": {},
   "outputs": [
    {
     "data": {
      "text/plain": [
       "array([[53, 79],\n",
       "       [43, 87],\n",
       "       [29, 51],\n",
       "       [57, 70],\n",
       "       [22, 82],\n",
       "       [35, 61],\n",
       "       [53, 71],\n",
       "       [33, 93],\n",
       "       [37, 74],\n",
       "       [25, 98],\n",
       "       [25, 76],\n",
       "       [38, 91],\n",
       "       [50, 77],\n",
       "       [54, 65],\n",
       "       [38, 64],\n",
       "       [17, 96],\n",
       "       [36, 93],\n",
       "       [16, 52],\n",
       "       [38, 86],\n",
       "       [58, 56]], dtype=int32)"
      ]
     },
     "execution_count": 6,
     "metadata": {},
     "output_type": "execute_result"
    }
   ],
   "source": [
    "np.random.seed(42)\n",
    "\n",
    "age = np.random.randint(15, 60, 20)\n",
    "weight = np.random.randint(50, 100, 20)\n",
    "\n",
    "dataset = np.column_stack((age, weight))\n",
    "\n",
    "dataset"
   ]
  }
 ],
 "metadata": {
  "kernelspec": {
   "display_name": "venv",
   "language": "python",
   "name": "python3"
  },
  "language_info": {
   "codemirror_mode": {
    "name": "ipython",
    "version": 3
   },
   "file_extension": ".py",
   "mimetype": "text/x-python",
   "name": "python",
   "nbconvert_exporter": "python",
   "pygments_lexer": "ipython3",
   "version": "3.11.0"
  }
 },
 "nbformat": 4,
 "nbformat_minor": 2
}
